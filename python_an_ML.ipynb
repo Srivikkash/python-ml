{
  "nbformat": 4,
  "nbformat_minor": 0,
  "metadata": {
    "colab": {
      "name": "python an ML.ipynb",
      "provenance": [],
      "collapsed_sections": [],
      "mount_file_id": "1crgM8rQuiO2o1uxnN9rM6j3krxgkSD5C",
      "authorship_tag": "ABX9TyMNuSKz2z+Zi1PCsAtqn6Ds",
      "include_colab_link": true
    },
    "kernelspec": {
      "name": "python3",
      "display_name": "Python 3"
    },
    "language_info": {
      "name": "python"
    }
  },
  "cells": [
    {
      "cell_type": "markdown",
      "metadata": {
        "id": "view-in-github",
        "colab_type": "text"
      },
      "source": [
        "<a href=\"https://colab.research.google.com/github/Srivikkash/python-ml/blob/main/python_an_ML.ipynb\" target=\"_parent\"><img src=\"https://colab.research.google.com/assets/colab-badge.svg\" alt=\"Open In Colab\"/></a>"
      ]
    },
    {
      "cell_type": "code",
      "execution_count": null,
      "metadata": {
        "id": "-D6rkkgLDH9A"
      },
      "outputs": [],
      "source": [
        "import pandas as pd\n",
        "import numpy as np\n",
        "import matplotlib.pyplot as plt\n",
        "import seaborn as sns\n",
        "from sklearn.linear_model import LinearRegression\n",
        "from sklearn.metrics import r2_score\n",
        "from sklearn.model_selection import train_test_split"
      ]
    },
    {
      "cell_type": "code",
      "source": [
        "data = pd.read_csv(\"/content/drive/MyDrive/dataset/Housing2.csv\")"
      ],
      "metadata": {
        "id": "cu-kRdIdQsIz"
      },
      "execution_count": null,
      "outputs": []
    },
    {
      "cell_type": "code",
      "source": [
        "x=data[['area', 'bedrooms', 'bathrooms', 'stories', 'mainroad',\n",
        "       'guestroom', 'basement', 'hotwaterheating', 'airconditioning',\n",
        "       'parking', 'prefarea', 'furnishingstatus']]\n",
        "y=data.price"
      ],
      "metadata": {
        "id": "epQfKdztRd6i"
      },
      "execution_count": null,
      "outputs": []
    },
    {
      "cell_type": "code",
      "source": [
        "x_train, x_test, y_train, y_test = train_test_split(x,y,test_size=0.2)"
      ],
      "metadata": {
        "id": "82FKneWNxfbH"
      },
      "execution_count": null,
      "outputs": []
    },
    {
      "cell_type": "code",
      "source": [
        "model = LinearRegression()"
      ],
      "metadata": {
        "id": "wV76exvUxs_z"
      },
      "execution_count": null,
      "outputs": []
    },
    {
      "cell_type": "code",
      "source": [
        "ft=model.fit(x_train,y_train) ##train_model_fit\n"
      ],
      "metadata": {
        "id": "I_hVAsJLyE75"
      },
      "execution_count": null,
      "outputs": []
    },
    {
      "cell_type": "code",
      "source": [
        "ft.score(x_train,y_train) ##train_score"
      ],
      "metadata": {
        "id": "TUnLzjgAa4Cd"
      },
      "execution_count": null,
      "outputs": []
    },
    {
      "cell_type": "code",
      "source": [
        "y_train_pred = ft.predict(x_train)"
      ],
      "metadata": {
        "id": "wJPDXHkL6pW4"
      },
      "execution_count": null,
      "outputs": []
    },
    {
      "cell_type": "code",
      "source": [
        "y_train_pred "
      ],
      "metadata": {
        "id": "yegV50ZU68vx"
      },
      "execution_count": null,
      "outputs": []
    },
    {
      "cell_type": "code",
      "source": [
        "y_test_pred = ft.predict(x_test)"
      ],
      "metadata": {
        "id": "8S5QwMR47CqP"
      },
      "execution_count": null,
      "outputs": []
    },
    {
      "cell_type": "code",
      "source": [
        "y_test_pred"
      ],
      "metadata": {
        "id": "GYOkI1w-7H_q"
      },
      "execution_count": null,
      "outputs": []
    },
    {
      "cell_type": "code",
      "source": [
        "ft.score(x_test,y_test)"
      ],
      "metadata": {
        "id": "mN0q1j_w7PCp"
      },
      "execution_count": null,
      "outputs": []
    }
  ]
}